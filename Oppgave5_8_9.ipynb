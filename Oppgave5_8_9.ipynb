{
 "cells": [
  {
   "cell_type": "markdown",
   "metadata": {},
   "source": [
    "# Oppgave 5.8.9"
   ]
  },
  {
   "cell_type": "code",
   "execution_count": 4,
   "metadata": {},
   "outputs": [
    {
     "name": "stdout",
     "output_type": "stream",
     "text": [
      "(8.42442890089805, array([0.99448805, 0.09877396, 0.03517412]))\n"
     ]
    }
   ],
   "source": [
    "import numpy as np\n",
    "\n",
    "A = np.array([[8, 0, 12], [1, -2, 1], [0, 3, 0]])\n",
    "\n",
    "x0 = np.array([1,0,0])\n",
    "\n",
    "# we want to use the power method to estimate the largest eigenvalue of A\n",
    "\n",
    "def PowerMethod(A, x0, tol, maxIter):\n",
    "    x = x0\n",
    "    for i in range(maxIter):\n",
    "        y = A @ x\n",
    "        x = y / np.linalg.norm(y)\n",
    "        if np.linalg.norm(A @ x - np.dot(np.dot(A, x), x)) < tol:\n",
    "            break\n",
    "\n",
    "    eig_value = np.dot(np.dot(A, x), x) / np.dot(x, x)\n",
    "    eig_vector = x\n",
    "\n",
    "    return eig_value, eig_vector\n",
    "\n",
    "print(PowerMethod(A, x0, 1e-6, 1000))"
   ]
  },
  {
   "cell_type": "markdown",
   "metadata": {},
   "source": [
    "# Oppgave 5.9.4"
   ]
  },
  {
   "cell_type": "code",
   "execution_count": 15,
   "metadata": {},
   "outputs": [
    {
     "name": "stdout",
     "output_type": "stream",
     "text": [
      "Sannsynlighet for bra vær i morgen er: 17.0%\n",
      "Sannsynlighet for dårlig vær på søndag er: 21.0%\n"
     ]
    }
   ],
   "source": [
    "P = np.array([[0.5, 0.3, 0.2], \n",
    "              [0.2, 0.7, 0.1], \n",
    "              [0.1, 0.3, 0.6]]).T\n",
    "\n",
    "x0 = np.array([0,0.7,0.3])\n",
    "\n",
    "print(f\"Sannsynlighet for bra vær i morgen er: {100*(P@x0)[0]:.1f}%\")\n",
    "\n",
    "# vær på fredag\n",
    "\n",
    "x0 = np.array([0.5,0.5,0])\n",
    "\n",
    "print(f\"Sannsynlighet for dårlig vær på søndag er: {100*(P@P@x0)[2]:.1f}%\")"
   ]
  }
 ],
 "metadata": {
  "kernelspec": {
   "display_name": "INF201",
   "language": "python",
   "name": "python3"
  },
  "language_info": {
   "codemirror_mode": {
    "name": "ipython",
    "version": 3
   },
   "file_extension": ".py",
   "mimetype": "text/x-python",
   "name": "python",
   "nbconvert_exporter": "python",
   "pygments_lexer": "ipython3",
   "version": "3.10.13"
  }
 },
 "nbformat": 4,
 "nbformat_minor": 2
}
