{
 "cells": [
  {
   "cell_type": "code",
   "execution_count": 19,
   "metadata": {},
   "outputs": [
    {
     "name": "stdout",
     "output_type": "stream",
     "text": [
      "[1. 1. 1. 1.]\n",
      "[ 1.42281442  0.27039833  0.3062641  -0.413087  ] [ 1.19964014  0.2856162   0.14551324 -0.39919933]\n"
     ]
    }
   ],
   "source": [
    "import numpy as np\n",
    "\n",
    "A = np.array([[.5,.5,.5,.5],[.5,.5,-.5,-.5],[.5,-.5,.5,-.5],[.5,-.5,-.5,.5]])\n",
    "\n",
    "# we want to calculate the lenghts of each vector in A\n",
    "\n",
    "# we can do this by using the np.linalg.norm function on each column\n",
    "\n",
    "lengths = np.linalg.norm(A, axis=0)\n",
    "\n",
    "print(lengths)\n",
    "\n",
    "u = np.random.rand(4)\n",
    "v = np.random.rand(4)\n",
    "\n",
    "print(A @ u, A @ v)"
   ]
  }
 ],
 "metadata": {
  "kernelspec": {
   "display_name": "INF201",
   "language": "python",
   "name": "python3"
  },
  "language_info": {
   "codemirror_mode": {
    "name": "ipython",
    "version": 3
   },
   "file_extension": ".py",
   "mimetype": "text/x-python",
   "name": "python",
   "nbconvert_exporter": "python",
   "pygments_lexer": "ipython3",
   "version": "3.10.13"
  }
 },
 "nbformat": 4,
 "nbformat_minor": 2
}
