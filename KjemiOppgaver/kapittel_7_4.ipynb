{
 "cells": [
  {
   "cell_type": "code",
   "execution_count": 1,
   "metadata": {},
   "outputs": [
    {
     "name": "stdout",
     "output_type": "stream",
     "text": [
      "[[-36.   0.   0.   0.   3.   5.   5.   3.   3.   1.]\n",
      " [ -2. -36.   0.   0.   3.   5.   5.   3.   3.   1.]\n",
      " [ -2.   0. -36.   0.   3.   5.   5.   3.   3.   1.]\n",
      " [ -2.   0.   0. -36.   3.   5.   5.   3.   3.   1.]\n",
      " [ -2.   0.   0.   0. -36.   5.   5.   3.   3.   1.]\n",
      " [ -2.   0.   0.   0.   3. -36.   5.   3.   3.   1.]\n",
      " [ -2.   0.   0.   0.   3.   5. -36.   3.   3.   1.]\n",
      " [ -2.   0.   0.   0.   3.   5.   5. -36.   3.   1.]\n",
      " [ -2.   0.   0.   0.   3.   5.   5.   3. -36.   1.]\n",
      " [ -2.   0.   0.   0.   3.   5.   5.   3.   3. -36.]]\n"
     ]
    }
   ],
   "source": [
    "import numpy as np\n",
    "\n",
    "def generate_matrix(x):\n",
    "    # we will turn the coeffisients of a quadratic form into a matrix.\n",
    "    # the first half is the diagonals.\n",
    "    # the second half is the off-diagonals. these values are halved and sign reversed.\n",
    "\n",
    "    A = np.zeros((len(x),len(x)))\n",
    "    for coeff in x:\n",
    "        A += np.diag([coeff]*len(x))\n",
    "    for i in range(len(x)):\n",
    "        for j in range(len(x)):\n",
    "            if i != j:\n",
    "                A[i,j] = -x[j]/2\n",
    "    return A\n",
    "\n",
    "coeffs = [4,0,0,0,-6,-10,-10,-6,-6,-2]\n",
    "A = generate_matrix(coeffs)\n",
    "print(A)"
   ]
  },
  {
   "cell_type": "code",
   "execution_count": 3,
   "metadata": {},
   "outputs": [
    {
     "name": "stdout",
     "output_type": "stream",
     "text": [
      "Eigenvalue 1 is 11.859371174379998\n",
      "with eigenvector [-0.69351537 -0.3917386  -0.42753789 -0.42753789]\n",
      "Eigenvalue 2 is -1.5817368738422457\n",
      "with eigenvector [-0.52928004  0.84641429  0.0415059   0.0415059 ]\n",
      "Eigenvalue 3 is -5.277634300537748\n",
      "with eigenvector [ 0.48877302  0.36072664 -0.56168373 -0.56168373]\n",
      "Eigenvalue 4 is -0.9999999999999998\n",
      "with eigenvector [ 4.58068486e-17 -1.19135330e-16 -7.07106781e-01  7.07106781e-01]\n"
     ]
    }
   ],
   "source": [
    "A = np.array([[ 4, 3, 5, 5],\n",
    "            [ 3, 0, 3, 3],\n",
    "            [ 5, 3, 0, 1],\n",
    "            [ 5, 3, 1, 0]])\n",
    "\n",
    "eigenvalues = np.linalg.eigvals(A)\n",
    "for i in range(len(eigenvalues)):\n",
    "    print(f\"Eigenvalue {i+1} is {eigenvalues[i]}\")\n",
    "    eigenvector = np.linalg.eig(A)[1][:,i]\n",
    "    print(f\"with eigenvector {eigenvector}\")\n",
    "\n"
   ]
  }
 ],
 "metadata": {
  "kernelspec": {
   "display_name": "INF201",
   "language": "python",
   "name": "python3"
  },
  "language_info": {
   "codemirror_mode": {
    "name": "ipython",
    "version": 3
   },
   "file_extension": ".py",
   "mimetype": "text/x-python",
   "name": "python",
   "nbconvert_exporter": "python",
   "pygments_lexer": "ipython3",
   "version": "3.10.13"
  }
 },
 "nbformat": 4,
 "nbformat_minor": 2
}
