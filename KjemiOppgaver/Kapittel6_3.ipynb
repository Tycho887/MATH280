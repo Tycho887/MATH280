{
 "cells": [
  {
   "cell_type": "markdown",
   "metadata": {},
   "source": [
    "## Oppgave 3"
   ]
  },
  {
   "cell_type": "code",
   "execution_count": 2,
   "metadata": {},
   "outputs": [
    {
     "name": "stdout",
     "output_type": "stream",
     "text": [
      "[2. 2. 2.]\n",
      "[-2.5  2.5  0. ]\n"
     ]
    }
   ],
   "source": [
    "import numpy as np\n",
    "\n",
    "u1 = np.array((1,1,1))\n",
    "u2 = np.array((-1,1,0))\n",
    "\n",
    "v = np.array((-1,4,3))\n",
    "\n",
    "def proj(v, u):\n",
    "    return np.dot(v,u)/np.dot(u,u)*u\n",
    "\n",
    "print(proj(v,u1))\n",
    "print(proj(v,u2))"
   ]
  },
  {
   "cell_type": "markdown",
   "metadata": {},
   "source": [
    "## Oppgave 7"
   ]
  },
  {
   "cell_type": "code",
   "execution_count": 3,
   "metadata": {},
   "outputs": [
    {
     "name": "stdout",
     "output_type": "stream",
     "text": [
      "[3.33333333 0.66666667 2.66666667]\n",
      "[-2.33333333  2.33333333  2.33333333]\n",
      "[1. 3. 5.]\n"
     ]
    }
   ],
   "source": [
    "u1 = np.array((5,1,4))\n",
    "u2 = np.array((1,3,-2))\n",
    "\n",
    "v = np.array((1,3,5))\n",
    "\n",
    "v_ = proj(v,u1) + proj(v,u2)\n",
    "v_t = v - v_\n",
    "\n",
    "print(v_)\n",
    "print(v_t)\n",
    "print(v_ + v_t)"
   ]
  },
  {
   "cell_type": "markdown",
   "metadata": {},
   "source": [
    "## Oppgave 17"
   ]
  },
  {
   "cell_type": "code",
   "execution_count": 16,
   "metadata": {},
   "outputs": [
    {
     "name": "stdout",
     "output_type": "stream",
     "text": [
      "Del A\n",
      "[[ 1.00000000e+00 -1.23358114e-17]\n",
      " [-1.23358114e-17  1.00000000e+00]]\n",
      "[[ 0.88888889 -0.22222222  0.22222222]\n",
      " [-0.22222222  0.55555556  0.44444444]\n",
      " [ 0.22222222  0.44444444  0.55555556]]\n",
      "------------------------- \n",
      "Del B\n",
      "[2. 4. 5.]\n",
      "[2. 4. 5.]\n"
     ]
    }
   ],
   "source": [
    "u1 = np.array((2/3,1/3,2/3))\n",
    "u2 = np.array((-2/3,2/3,1/3))\n",
    "\n",
    "y = np.array((4,8,1))\n",
    "\n",
    "U = np.array([u1,u2]).T\n",
    "\n",
    "print(\"Del A\")\n",
    "\n",
    "print(U.T @ U)\n",
    "print(U @ U.T)\n",
    "\n",
    "print(25*\"-\",\"\\nDel B\")\n",
    "\n",
    "def matrix_proj(U, y):\n",
    "    # we want to calculate the projection of y onto the column space of U\n",
    "    # we can do this by calculating the projection of y onto each column of U\n",
    "\n",
    "    projection = np.zeros(y.shape)\n",
    "\n",
    "    for u in U.T:\n",
    "        projection += proj(y,u)\n",
    "\n",
    "    return projection\n",
    "\n",
    "print(matrix_proj(U,y))\n",
    "print((U @ U.T) @ y)"
   ]
  },
  {
   "cell_type": "markdown",
   "metadata": {},
   "source": [
    "## Oppgave 33"
   ]
  },
  {
   "cell_type": "code",
   "execution_count": 83,
   "metadata": {},
   "outputs": [
    {
     "name": "stdout",
     "output_type": "stream",
     "text": [
      "0\n",
      "0.2211085895718053\n"
     ]
    }
   ],
   "source": [
    "w = np.array((1,0,0,1))\n",
    "w2 = np.random.rand(4)\n",
    "\n",
    "B = np.array([[0,1,0,0],[0,0,1,0],[-1,0,0,1]])\n",
    "\n",
    "M = B.T @ B\n",
    "\n",
    "print(w.T @ M @ w)\n",
    "print(w2.T @ M @ w2)\n"
   ]
  }
 ],
 "metadata": {
  "kernelspec": {
   "display_name": "INF201",
   "language": "python",
   "name": "python3"
  },
  "language_info": {
   "codemirror_mode": {
    "name": "ipython",
    "version": 3
   },
   "file_extension": ".py",
   "mimetype": "text/x-python",
   "name": "python",
   "nbconvert_exporter": "python",
   "pygments_lexer": "ipython3",
   "version": "3.10.13"
  }
 },
 "nbformat": 4,
 "nbformat_minor": 2
}
