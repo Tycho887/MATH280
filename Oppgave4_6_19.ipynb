{
 "cells": [
  {
   "cell_type": "code",
   "execution_count": 4,
   "metadata": {},
   "outputs": [
    {
     "data": {
      "text/latex": [
       "$\\displaystyle \\left[\\begin{matrix}1 & 0 & -1 & 0 & 1 & 0 & -1\\\\0 & 1 & 0 & -3 & 0 & 5 & 0\\\\0 & 0 & 2 & 0 & -8 & 0 & 18\\\\0 & 0 & 0 & 4 & 0 & -20 & 0\\\\0 & 0 & 0 & 0 & 8 & 0 & -48\\\\0 & 0 & 0 & 0 & 0 & 16 & 0\\\\0 & 0 & 0 & 0 & 0 & 0 & 32\\end{matrix}\\right]$"
      ],
      "text/plain": [
       "Matrix([\n",
       "[1, 0, -1,  0,  1,   0,  -1],\n",
       "[0, 1,  0, -3,  0,   5,   0],\n",
       "[0, 0,  2,  0, -8,   0,  18],\n",
       "[0, 0,  0,  4,  0, -20,   0],\n",
       "[0, 0,  0,  0,  8,   0, -48],\n",
       "[0, 0,  0,  0,  0,  16,   0],\n",
       "[0, 0,  0,  0,  0,   0,  32]])"
      ]
     },
     "metadata": {},
     "output_type": "display_data"
    },
    {
     "data": {
      "text/latex": [
       "$\\displaystyle \\left[\\begin{matrix}1 & 0 & \\frac{1}{2} & 0 & \\frac{3}{8} & 0 & \\frac{5}{16}\\\\0 & 1 & 0 & \\frac{3}{4} & 0 & \\frac{5}{8} & 0\\\\0 & 0 & \\frac{1}{2} & 0 & \\frac{1}{2} & 0 & \\frac{15}{32}\\\\0 & 0 & 0 & \\frac{1}{4} & 0 & \\frac{5}{16} & 0\\\\0 & 0 & 0 & 0 & \\frac{1}{8} & 0 & \\frac{3}{16}\\\\0 & 0 & 0 & 0 & 0 & \\frac{1}{16} & 0\\\\0 & 0 & 0 & 0 & 0 & 0 & \\frac{1}{32}\\end{matrix}\\right]$"
      ],
      "text/plain": [
       "Matrix([\n",
       "[1, 0, 1/2,   0, 3/8,    0,  5/16],\n",
       "[0, 1,   0, 3/4,   0,  5/8,     0],\n",
       "[0, 0, 1/2,   0, 1/2,    0, 15/32],\n",
       "[0, 0,   0, 1/4,   0, 5/16,     0],\n",
       "[0, 0,   0,   0, 1/8,    0,  3/16],\n",
       "[0, 0,   0,   0,   0, 1/16,     0],\n",
       "[0, 0,   0,   0,   0,    0,  1/32]])"
      ]
     },
     "metadata": {},
     "output_type": "display_data"
    }
   ],
   "source": [
    "import sympy as sp\n",
    "\n",
    "B = sp.Matrix([[1,0,-1,0,1,0,-1],\n",
    "              [0,1,0,-3,0,5,0],\n",
    "              [0,0,2,0,-8,0,18],\n",
    "              [0,0,0,4,0,-20,0],\n",
    "              [0,0,0,0,8,0,-48],\n",
    "              [0,0,0,0,0,16,0],\n",
    "              [0,0,0,0,0,0,32],])\n",
    "\n",
    "# we want to display the inverted matrix\n",
    "\n",
    "display(B.inv())"
   ]
  }
 ],
 "metadata": {
  "kernelspec": {
   "display_name": "INF201",
   "language": "python",
   "name": "python3"
  },
  "language_info": {
   "codemirror_mode": {
    "name": "ipython",
    "version": 3
   },
   "file_extension": ".py",
   "mimetype": "text/x-python",
   "name": "python",
   "nbconvert_exporter": "python",
   "pygments_lexer": "ipython3",
   "version": "3.10.13"
  }
 },
 "nbformat": 4,
 "nbformat_minor": 2
}
