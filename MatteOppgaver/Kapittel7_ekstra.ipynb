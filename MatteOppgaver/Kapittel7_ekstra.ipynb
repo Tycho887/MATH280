{
 "cells": [
  {
   "cell_type": "markdown",
   "metadata": {},
   "source": [
    "# Oppgave 31"
   ]
  },
  {
   "cell_type": "code",
   "execution_count": 23,
   "metadata": {},
   "outputs": [
    {
     "name": "stdout",
     "output_type": "stream",
     "text": [
      "True\n"
     ]
    }
   ],
   "source": [
    "import numpy as np\n",
    "\n",
    "A = np.array([[-3, -3, -6, 6, 1], [-1, -1, -1, 1, -2], [0, 0, -1, 1, -1], [0, 0, -1, 1, -1]])\n",
    "\n",
    "# Find the SVD of A\n",
    "U, S, V = np.linalg.svd(A)\n",
    "\n",
    "# Create the diagonal matrix S from the singular values\n",
    "S_matrix = np.zeros(A.shape)\n",
    "S_matrix[:min(A.shape), :min(A.shape)] = np.diag(S)\n",
    "\n",
    "# Reconstruct the original matrix using the U, S, and V matrices\n",
    "reconstructed_A = np.dot(U, np.dot(S_matrix, V))\n",
    "\n",
    "# Check if the reconstruction matches the original matrix\n",
    "print(np.allclose(A, reconstructed_A))\n"
   ]
  }
 ],
 "metadata": {
  "kernelspec": {
   "display_name": "INF201",
   "language": "python",
   "name": "python3"
  },
  "language_info": {
   "codemirror_mode": {
    "name": "ipython",
    "version": 3
   },
   "file_extension": ".py",
   "mimetype": "text/x-python",
   "name": "python",
   "nbconvert_exporter": "python",
   "pygments_lexer": "ipython3",
   "version": "3.10.13"
  }
 },
 "nbformat": 4,
 "nbformat_minor": 2
}
