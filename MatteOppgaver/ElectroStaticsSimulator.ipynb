{
 "cells": [
  {
   "cell_type": "markdown",
   "metadata": {},
   "source": [
    "# Electrostatics simulation\n",
    "\n",
    "We want to simulate the electric potential and field of a pair of nested spheres in 3D\n",
    "\n",
    "The inner sphere has a radius of 2mm and a charge of -Q and the outer sphere has a charge of +Q. The distance between the centers of the spheres is 0.1mm."
   ]
  },
  {
   "cell_type": "code",
   "execution_count": null,
   "metadata": {},
   "outputs": [],
   "source": [
    "import numpy as np\n",
    "import matplotlib.pyplot as plt\n",
    "import seaborn as sns\n",
    "\n",
    "# we want to define the charged spheres as a class. This will allow us to create multiple spheres with different properties\n",
    "\n",
    "class charged_sphere:\n",
    "    def __init__(self, Q,r, surface_charge=False, space_charge=False):\n",
    "        self.Q = Q\n",
    "        self.r = r\n",
    "        if surface_charge:\n",
    "            self.sigma = Q/(4*np.pi*r**2)\n",
    "        elif space_charge:\n",
    "            self.rho = Q/(4/3*np.pi*r**3)\n",
    "        else:\n",
    "            self.sigma = 0\n",
    "            self.rho = 0\n",
    "    def E(self, r, theta, phi):"
   ]
  }
 ],
 "metadata": {
  "kernelspec": {
   "display_name": "dat200_env",
   "language": "python",
   "name": "python3"
  },
  "language_info": {
   "name": "python",
   "version": "3.10.8"
  }
 },
 "nbformat": 4,
 "nbformat_minor": 2
}
