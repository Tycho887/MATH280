{
 "cells": [
  {
   "cell_type": "markdown",
   "metadata": {},
   "source": [
    "# Oppgave 1"
   ]
  },
  {
   "cell_type": "code",
   "execution_count": 5,
   "metadata": {},
   "outputs": [
    {
     "name": "stdout",
     "output_type": "stream",
     "text": [
      "[[17.2 -5.4]\n",
      " [-5.4  3.2]]\n"
     ]
    }
   ],
   "source": [
    "import numpy as np\n",
    "\n",
    "X = np.array([[19,22,6,3,2,20],[12,6,9,15,13,5]])\n",
    "\n",
    "# Calculate the mean of X and subtract it from X\n",
    "\n",
    "B = X - np.mean(X, axis=1).reshape(2,1)\n",
    "\n",
    "def cov(x, y):\n",
    "    return np.sum(x*y) / (len(x) - 1)\n",
    "\n",
    "# Calculate the covariance matrix of B\n",
    "\n",
    "def cov_matrix(B):\n",
    "    return np.array([[cov(B[0], B[0]), cov(B[0], B[1])], [cov(B[1], B[0]), cov(B[1], B[1])]]) / (len(B[0]) - 1)\n",
    "\n",
    "print(cov_matrix(B))"
   ]
  },
  {
   "cell_type": "markdown",
   "metadata": {},
   "source": [
    "# Oppgave 3\n",
    "\n",
    "The goal of principal component analysis is to find an orthogonal p x p matrix\n",
    "P = [u1,u2,u3...un] that determines a change of variable, X = P Y"
   ]
  },
  {
   "cell_type": "code",
   "execution_count": 7,
   "metadata": {},
   "outputs": [
    {
     "name": "stdout",
     "output_type": "stream",
     "text": [
      "[19.04081444  1.35918556]\n",
      "[[ 0.94651525  0.32265906]\n",
      " [-0.32265906  0.94651525]]\n"
     ]
    }
   ],
   "source": [
    "# find the principal components of B\n",
    "\n",
    "# the first principal component is the eigenvector tied to the largest eigenvalue\n",
    "\n",
    "eigenvalues, eigenvectors = np.linalg.eig(cov_matrix(B))\n",
    "\n",
    "print(eigenvalues)\n",
    "print(eigenvectors)\n",
    "\n"
   ]
  }
 ],
 "metadata": {
  "kernelspec": {
   "display_name": "INF201",
   "language": "python",
   "name": "python3"
  },
  "language_info": {
   "codemirror_mode": {
    "name": "ipython",
    "version": 3
   },
   "file_extension": ".py",
   "mimetype": "text/x-python",
   "name": "python",
   "nbconvert_exporter": "python",
   "pygments_lexer": "ipython3",
   "version": "3.10.13"
  }
 },
 "nbformat": 4,
 "nbformat_minor": 2
}
