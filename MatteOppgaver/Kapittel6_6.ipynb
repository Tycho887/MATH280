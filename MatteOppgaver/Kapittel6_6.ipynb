{
 "cells": [
  {
   "cell_type": "code",
   "execution_count": 5,
   "metadata": {},
   "outputs": [
    {
     "name": "stdout",
     "output_type": "stream",
     "text": [
      "[0.9 0.4]\n"
     ]
    }
   ],
   "source": [
    "import numpy as np\n",
    "\n",
    "x = np.array([0,1,2,3])\n",
    "y = np.array([1,1,2,2])\n",
    "\n",
    "# we want to set up a linear equation system to solve for a and b\n",
    "\n",
    "def least_squares(x,y):\n",
    "    X = np.vstack([np.ones(len(x)),x]).T\n",
    "\n",
    "    # we want to solve the system X_T*X*beta = X_T*y\n",
    "\n",
    "    # first we calculate X_T*X\n",
    "\n",
    "    XTX = np.dot(X.T,X)\n",
    "    XTy = np.dot(X.T,y)\n",
    "\n",
    "    # the vector beta is the solution to the system XTX*beta = XTy\n",
    "\n",
    "    beta = np.linalg.solve(XTX,XTy)\n",
    "\n",
    "    return beta\n",
    "\n",
    "print(least_squares(x,y))\n"
   ]
  },
  {
   "cell_type": "markdown",
   "metadata": {},
   "source": [
    "### Oppgave 15"
   ]
  },
  {
   "cell_type": "code",
   "execution_count": 10,
   "metadata": {},
   "outputs": [
    {
     "name": "stdout",
     "output_type": "stream",
     "text": [
      "[7.86845195 6.93787692]\n"
     ]
    },
    {
     "data": {
      "image/png": "[encoded data removed]",
      "text/plain": [
       "<Figure size 640x480 with 1 Axes>"
      ]
     },
     "metadata": {},
     "output_type": "display_data"
    }
   ],
   "source": [
    "def sin_cos_least_squares(x,y):\n",
    "    X = np.vstack([np.cos(x),np.sin(x)]).T\n",
    "\n",
    "    # we want to solve the system X_T*X*beta = X_T*y\n",
    "\n",
    "    # first we calculate X_T*X\n",
    "\n",
    "    XTX = np.dot(X.T,X)\n",
    "    XTy = np.dot(X.T,y)\n",
    "\n",
    "    # the vector beta is the solution to the system XTX*beta = XTy\n",
    "\n",
    "    beta = np.linalg.solve(XTX,XTy)\n",
    "\n",
    "    return beta\n",
    "\n",
    "x_15 = np.array([1,2,3])\n",
    "y_15 = np.array([7.9,5.4,-9])\n",
    "\n",
    "print(sin_cos_least_squares(x_15,y_15))\n",
    "\n",
    "def sin_cos(beta,x):\n",
    "    return beta[0]*np.sin(x) + beta[1]*np.cos(x)\n",
    "\n",
    "import matplotlib.pyplot as plt\n",
    "\n",
    "plt.scatter(x_15,y_15)\n",
    "\n",
    "x_vals = np.linspace(0,3,100)\n",
    "y_vals = sin_cos(sin_cos_least_squares(x_15,y_15),x_vals)\n",
    "\n",
    "plt.plot(x_vals,y_vals)\n",
    "plt.show()"
   ]
  },
  {
   "cell_type": "markdown",
   "metadata": {},
   "source": [
    "### Oppgave 19"
   ]
  },
  {
   "cell_type": "code",
   "execution_count": 13,
   "metadata": {},
   "outputs": [
    {
     "name": "stdout",
     "output_type": "stream",
     "text": [
      "13 13\n",
      "42.21515359660873\n"
     ]
    }
   ],
   "source": [
    "def least_squares_polynomial(x,y,degree):\n",
    "    X = np.vander(x,degree+1)\n",
    "\n",
    "    # we want to solve the system X_T*X*beta = X_T*y\n",
    "\n",
    "    # first we calculate X_T*X\n",
    "\n",
    "    XTX = np.dot(X.T,X)\n",
    "    XTy = np.dot(X.T,y)\n",
    "\n",
    "    # the vector beta is the solution to the system XTX*beta = XTy\n",
    "\n",
    "    beta = np.linalg.solve(XTX,XTy)\n",
    "\n",
    "    return beta\n",
    "\n",
    "x_19 = np.arange(0,13,1)\n",
    "y_19 = np.array([0,8.8,29.9,62.0,104.7,159.1,222,294.5,380.4,471.1,571.7,686.8,809.2])\n",
    "\n",
    "print(len(x_19),len(y_19))\n",
    "\n",
    "beta = least_squares_polynomial(x_19,y_19,3)\n",
    "\n",
    "def polynomial(beta,x):\n",
    "    return beta[0] + beta[1]*x + beta[2]*x**2 + beta[3]*x**3\n",
    "\n",
    "print(polynomial(beta,4.5))"
   ]
  },
  {
   "cell_type": "markdown",
   "metadata": {},
   "source": [
    "### Oppgave 20"
   ]
  },
  {
   "cell_type": "code",
   "execution_count": null,
   "metadata": {},
   "outputs": [],
   "source": []
  }
 ],
 "metadata": {
  "kernelspec": {
   "display_name": "INF201",
   "language": "python",
   "name": "python3"
  },
  "language_info": {
   "codemirror_mode": {
    "name": "ipython",
    "version": 3
   },
   "file_extension": ".py",
   "mimetype": "text/x-python",
   "name": "python",
   "nbconvert_exporter": "python",
   "pygments_lexer": "ipython3",
   "version": "0.0.0"
  }
 },
 "nbformat": 4,
 "nbformat_minor": 2
}
