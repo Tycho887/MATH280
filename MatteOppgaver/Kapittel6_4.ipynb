{
 "cells": [
  {
   "cell_type": "markdown",
   "metadata": {},
   "source": [
    "# Kapittel 6.4\n",
    "\n",
    "We want to implement the Gram-Schmidt process for a set of vectors. The Gram-Schmidt process is a method for orthonormalizing a set of vectors. The process is as follows:"
   ]
  },
  {
   "cell_type": "code",
   "execution_count": 98,
   "metadata": {},
   "outputs": [],
   "source": [
    "import numpy as np\n",
    "\n",
    "class Gram_Schmidt:\n",
    "    def __init__(self, vectors):\n",
    "        self.vectors = vectors\n",
    "        self.matrix = vectors\n",
    "        self.ON_matrix = np.zeros_like(vectors)\n",
    "\n",
    "    def proj(self, u, v):\n",
    "        return (u.dot(v) / u.dot(u)) * u\n",
    "    \n",
    "    def normalise(self, v):\n",
    "        return v / np.linalg.norm(v)\n",
    "    \n",
    "    def Gram_Schmidt(self):\n",
    "\n",
    "        # step 1: normalise the first vector\n",
    "\n",
    "        self.ON_matrix[:, 0] = self.normalise(self.matrix[:, 0])\n",
    "\n",
    "        # step 2: for each vector, subtract the projection of the vector onto the previous vectors\n",
    "\n",
    "        for i in range(1, len(self.matrix[0])):\n",
    "            self.ON_matrix[:, i] = self.matrix[:, i] - np.sum([self.proj(self.ON_matrix[:, j], self.matrix[:, i]) for j in range(i)], axis=0)\n",
    "            self.ON_matrix[:, i] = self.normalise(self.ON_matrix[:, i])\n",
    "        \n",
    "        assert np.isclose(self.ON_matrix.T @ self.ON_matrix, np.eye(np.shape(ON_matrix)[1])).all(), \"The matrix is not orthonormal\"\n",
    "        return self.ON_matrix\n",
    "    \n",
    "    def __call__(self):\n",
    "        return self.Gram_Schmidt()"
   ]
  },
  {
   "cell_type": "markdown",
   "metadata": {},
   "source": [
    "## Oppgave 3"
   ]
  },
  {
   "cell_type": "code",
   "execution_count": 99,
   "metadata": {},
   "outputs": [
    {
     "name": "stdout",
     "output_type": "stream",
     "text": [
      "[[ 2.  4.]\n",
      " [-5. -1.]\n",
      " [ 1.  1.]]\n",
      "[[ 0.36514837  0.90562412]\n",
      " [-0.91287093  0.39374962]\n",
      " [ 0.18257419  0.15749985]]\n"
     ]
    }
   ],
   "source": [
    "u = np.array([2.0, -5.0, 1.0])\n",
    "v = np.array([4.0, -1.0, 1.0])\n",
    "\n",
    "W = np.array([u, v]).T\n",
    "\n",
    "print(W)\n",
    "\n",
    "W_ON = Gram_Schmidt(W)()\n",
    "\n",
    "print(W_ON)"
   ]
  },
  {
   "cell_type": "markdown",
   "metadata": {},
   "source": [
    "## Oppgave 7"
   ]
  },
  {
   "cell_type": "code",
   "execution_count": null,
   "metadata": {},
   "outputs": [],
   "source": []
  }
 ],
 "metadata": {
  "kernelspec": {
   "display_name": "INF201",
   "language": "python",
   "name": "python3"
  },
  "language_info": {
   "codemirror_mode": {
    "name": "ipython",
    "version": 3
   },
   "file_extension": ".py",
   "mimetype": "text/x-python",
   "name": "python",
   "nbconvert_exporter": "python",
   "pygments_lexer": "ipython3",
   "version": "3.10.13"
  }
 },
 "nbformat": 4,
 "nbformat_minor": 2
}
